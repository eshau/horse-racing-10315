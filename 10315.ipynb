{
 "cells": [
  {
   "attachments": {},
   "cell_type": "markdown",
   "metadata": {},
   "source": [
    "Introduction:\n",
    "\n",
    "Horse racing is a $402.3 Billion industry (GlobalNewsWire), and betting on race outcomes is both an integral part of the races and a possibly lucrative \n",
    "profession. Thus, we are interested in accurately predicting horse race outcomes in order to maximize expected profits. Our dataset consists of multiple csv files - one for each year between 1990 and 2022 for both the horses and the races(track condition). For example, the horses_1990.csv file contains features such as race id, horse name, age, isFav (the favorite horse to win), and the jockey name. The races_1990.csv contains features such as race id, course, time of race, date, and track condition. \n",
    "\n",
    "In this project we mostly used the numeric features to avoid having to do too much data cleaning, but we still used some categorical features such as track condition to partition the data. We used a fully connected pairwise neural-net and a pairwise logistic regression model where we inputted 9 features for two horses (totalling 18 inputs) and the output was the probability of one horse beating the other (then taking the argmax to get our predicted horse winner). \n",
    "\n",
    "Our experimental question is: Will our specific pairwise fully-connected neural network outperform a pairwise logistic regression model?"
   ]
  },
  {
   "cell_type": "code",
   "execution_count": 14,
   "metadata": {},
   "outputs": [],
   "source": [
    "#Import packages\n",
    "import os\n",
    "import glob\n",
    "import numpy as np\n",
    "import pandas as pd\n",
    "import torch\n",
    "import torch.nn as nn\n",
    "import torch.optim as optim\n",
    "from torch.utils.data import Dataset, DataLoader\n",
    "from sklearn.ensemble import RandomForestClassifier\n",
    "import torchvision\n",
    "from torchvision import transforms\n",
    "import matplotlib.pyplot as plt\n",
    "from multiprocessing import Pool\n",
    "from torch.utils.data import random_split\n",
    "from pandarallel import pandarallel"
   ]
  },
  {
   "cell_type": "code",
   "execution_count": 15,
   "metadata": {},
   "outputs": [
    {
     "name": "stdout",
     "output_type": "stream",
     "text": [
      "Pytorch CUDA Version is  11.8\n",
      "Name of the current CUDA device:  NVIDIA GeForce RTX 3060 Laptop GPU\n"
     ]
    }
   ],
   "source": [
    "#Enable CUDA if possible\n",
    "device = \"cuda\" if torch.cuda.is_available() else \"cpu\"\n",
    "device\n",
    "print(\"Pytorch CUDA Version is \", torch.version.cuda)\n",
    "\n",
    "cuda_id = torch.cuda.current_device()\n",
    "print(\"Name of the current CUDA device: \", torch.cuda.get_device_name(cuda_id))"
   ]
  },
  {
   "cell_type": "code",
   "execution_count": 16,
   "metadata": {},
   "outputs": [],
   "source": [
    "train = False"
   ]
  },
  {
   "cell_type": "code",
   "execution_count": 17,
   "metadata": {},
   "outputs": [
    {
     "name": "stdout",
     "output_type": "stream",
     "text": [
      "Couldn't find program: 'false'\n"
     ]
    }
   ],
   "source": [
    "%%script false --no-raise-error\n",
    "\n",
    "# Read in all data with Pandas\n",
    "race_id = ['rid']\n",
    "num_runners = ['runners']\n",
    "horse_label = ['position']\n",
    "horse_preds = ['age', 'decimalPrice', 'isFav', 'weightLb',\n",
    "               'overWeight', 'outHandicap', 'RPR', 'TR', 'OR']\n",
    "condition = ['condition']\n",
    "pre_process_vars = ['weightSt']\n",
    "\n",
    "def read_race(filename):\n",
    "    race_csv = pd.read_csv(filename,\n",
    "                           usecols=race_id + condition)\n",
    "    return race_csv\n",
    "    \n",
    "def read_horse(filename):\n",
    "    horse_csv = pd.read_csv(filename,\n",
    "                            usecols=race_id + num_runners + horse_label +\n",
    "                                    horse_preds + pre_process_vars)\n",
    "    horse_csv.fillna(0, inplace=True)\n",
    "    return horse_csv\n",
    "\n",
    "race_files = os.path.join(\"archive/races_*.csv\")\n",
    "horse_files = os.path.join(\"archive/horses_*.csv\")\n",
    "\n",
    "race_file_list = glob.glob(race_files)\n",
    "horse_file_list = glob.glob(horse_files)\n",
    "\n",
    "race_csv = pd.concat(map(read_race, race_file_list),\n",
    "                     ignore_index=True)\n",
    "horse_csv = pd.concat(map(read_horse, horse_file_list),\n",
    "                      ignore_index=True)\n",
    "\n",
    "horse_csv['weightLb'] += horse_csv['weightSt']*14\n",
    "horse_csv.drop(columns=pre_process_vars, inplace=True)\n"
   ]
  },
  {
   "cell_type": "code",
   "execution_count": 18,
   "metadata": {},
   "outputs": [
    {
     "name": "stdout",
     "output_type": "stream",
     "text": [
      "Couldn't find program: 'false'\n"
     ]
    }
   ],
   "source": [
    "%%script false --no-raise-error\n",
    "\n",
    "#Group into racetrack conditions\n",
    "race_conds = ['Soft', 'Good To Firm', 'Good', 'Standard', 'Yielding',\n",
    "              'Good To Soft','Heavy', 'Good To Yielding', 'Firm', 'Yielding To Soft',\n",
    "              'Fast', 'Soft To Heavy', 'Very Soft', 'Standard To Slow']\n",
    "\n",
    "def get_cond_data(cond):\n",
    "    return horse_csv[horse_csv.rid.isin(race_csv[race_csv.condition == cond].rid)]\n",
    "\n",
    "conds_data = list(map(get_cond_data, race_conds))\n"
   ]
  },
  {
   "cell_type": "code",
   "execution_count": 19,
   "metadata": {},
   "outputs": [
    {
     "name": "stdout",
     "output_type": "stream",
     "text": [
      "Couldn't find program: 'false'\n"
     ]
    }
   ],
   "source": [
    "%%script false --no-raise-error\n",
    "\n",
    "#Pre-processing data\n",
    "#Note: This took 6min, 21.3s. Do not recommend running, CPU died\n",
    "#Written to CSV below, load that instead.\n",
    "cols_to_norm = ['age', 'decimalPrice', 'weightLb', 'RPR', 'TR', 'OR']\n",
    "\n",
    "#https://repositorium.sdum.uminho.pt/bitstream/1822/24678/1/CVENN.pdf\n",
    "def adjust_label(race_data):\n",
    "    label = 1/race_data['position']\n",
    "    race_data['position'] = (label - label.min()) / (label.max() - label.min())\n",
    "    race_data['position'] = 2.71828**race_data['position']\n",
    "    race_data['position'] /= race_data['position'].sum()\n",
    "    return race_data\n",
    "\n",
    "def process_data(data):\n",
    "    pandarallel.initialize()\n",
    "    data.loc[:,cols_to_norm] = data.loc[:,cols_to_norm].parallel_apply(lambda col: (col - col.mean()) / (col.std()))\n",
    "    return data.groupby(race_id).parallel_apply(adjust_label)\n",
    "\n",
    "for i in range(len(conds_data)):\n",
    "    conds_data[i] = process_data(conds_data[i])"
   ]
  },
  {
   "cell_type": "code",
   "execution_count": 20,
   "metadata": {},
   "outputs": [
    {
     "name": "stdout",
     "output_type": "stream",
     "text": [
      "Couldn't find program: 'false'\n"
     ]
    }
   ],
   "source": [
    "%%script false --no-raise-error\n",
    "\n",
    "#Write this abominable data to the archive file with horses and races data\n",
    "#This also took far too long: 4min, 14s\n",
    "for i in range(len(race_conds)):\n",
    "    conds_data[i].to_csv(f\"archive/{race_conds[i]}.csv\", index=False)"
   ]
  },
  {
   "cell_type": "code",
   "execution_count": 21,
   "metadata": {},
   "outputs": [],
   "source": [
    "#Read in pre-processed data\n",
    "race_conds = ['Soft', 'Good To Firm', 'Good', 'Standard', 'Yielding',\n",
    "              'Good To Soft','Heavy', 'Good To Yielding', 'Firm', 'Yielding To Soft',\n",
    "              'Fast', 'Soft To Heavy', 'Very Soft', 'Standard To Slow']\n",
    "\n",
    "cond_file_list = [f\"archive/{race_conds[13]}.csv\"]\n",
    "conds_data = list(map(pd.read_csv, cond_file_list))"
   ]
  },
  {
   "cell_type": "code",
   "execution_count": 22,
   "metadata": {},
   "outputs": [],
   "source": [
    "#Load entire dataset via Pytorch\n",
    "class HorseDataset(Dataset):\n",
    "    def __init__(self, data):\n",
    "        def pad_tensor(data, nrow):\n",
    "            import torch\n",
    "            data = torch.tensor(data.values)\n",
    "            padded_tensor = torch.zeros(nrow, data.size(dim=1), 1)\n",
    "            padded_tensor[:data.size(dim=0),:,0] = data\n",
    "            return padded_tensor\n",
    "\n",
    "        self.runnners_idx = data.columns.get_loc('runners')\n",
    "        self.label_idx = data.columns.get_loc('position')\n",
    "        self.race_idx = data.columns.get_loc('rid')\n",
    "        self.preds_idx = [i[0] for i in (~pd.DataFrame(range(len(data.columns))).isin([self.runnners_idx, self.label_idx, self.race_idx])).values.tolist()]\n",
    "        tensor_nrow = data.iloc[:,self.runnners_idx].max()\n",
    "\n",
    "        pandarallel.initialize()\n",
    "        self.df = data.groupby('rid').parallel_apply(lambda df: pad_tensor(df, tensor_nrow))\n",
    "        self.df = torch.cat(self.df.tolist(), dim=2).cuda()\n",
    "\n",
    "    def __len__(self):\n",
    "        return self.df.size(dim=2)\n",
    "\n",
    "    def __getitem__(self, idx):\n",
    "        group = self.df[:,:,idx]\n",
    "        nrow = int(group[0,self.runnners_idx])\n",
    "        group = group[torch.randperm(nrow)[:2],:]\n",
    "        preds = group[:,self.preds_idx]\n",
    "        labels = group[:,self.label_idx]\n",
    "        labels = labels / torch.sum(labels)\n",
    "        \n",
    "        return preds, labels"
   ]
  },
  {
   "cell_type": "code",
   "execution_count": 23,
   "metadata": {},
   "outputs": [],
   "source": [
    "#Set up dataloaders\n",
    "test_split = 0.2\n",
    "batch_size = 1\n",
    "\n",
    "def horse_split(dataset):\n",
    "    dataset_size = len(dataset)\n",
    "    test_size = int(np.floor(dataset_size * test_split))\n",
    "    return random_split(dataset,\n",
    "                        [dataset_size - test_size, test_size])\n",
    "\n",
    "def horse_loader(dataset):\n",
    "    return DataLoader(dataset, batch_size=batch_size,\n",
    "                      shuffle=True)"
   ]
  },
  {
   "cell_type": "code",
   "execution_count": 24,
   "metadata": {},
   "outputs": [
    {
     "name": "stdout",
     "output_type": "stream",
     "text": [
      "INFO: Pandarallel will run on 6 workers.\n",
      "INFO: Pandarallel will use standard multiprocessing data transfer (pipe) to transfer data between the main process and workers.\n",
      "\n",
      "WARNING: You are on Windows. If you detect any issue with pandarallel, be sure you checked out the Troubleshooting page:\n",
      "https://nalepae.github.io/pandarallel/troubleshooting/\n"
     ]
    }
   ],
   "source": [
    "#Set up dataloaders:\n",
    "#SlowAF but necessary (4min, 4.5s)\n",
    "horse_dataset = [HorseDataset(conds_data[0])]\n",
    "horse_dataset = [horse_split(cond) for cond in horse_dataset]\n",
    "train_dataset = [cond[0] for cond in horse_dataset]\n",
    "test_dataset = [cond[1] for cond in horse_dataset]\n",
    "train_dataloader = [horse_loader(cond) for cond in train_dataset]\n",
    "test_dataloader = [horse_loader(cond) for cond in test_dataset]"
   ]
  },
  {
   "attachments": {},
   "cell_type": "markdown",
   "metadata": {},
   "source": [
    "Methods:\n",
    "\n",
    "Our first model is a pairwise fully-connected neural network. \n"
   ]
  },
  {
   "cell_type": "code",
   "execution_count": 25,
   "metadata": {},
   "outputs": [],
   "source": [
    "#Neural Net from scratch\n",
    "class HorsePairWiseNet(nn.Module):\n",
    "    def __init__(self):\n",
    "\n",
    "        super().__init__()\n",
    "\n",
    "        self.linear_stack = nn.Sequential(\n",
    "            nn.Linear(18, 32),\n",
    "            nn.ReLU(),\n",
    "            nn.Linear(32, 16),\n",
    "            nn.ReLU(),\n",
    "            nn.Linear(16, 4),\n",
    "            nn.ReLU(),\n",
    "            nn.Linear(4, 1)\n",
    "            #nn.Linear(18, 1)\n",
    "        )\n",
    "\n",
    "        self.Sigmoid = nn.Sigmoid()\n",
    "\n",
    "    def forward(self, x):\n",
    "        x = x.view(1, 18)\n",
    "        x = self.linear_stack(x)\n",
    "        prob = self.Sigmoid(x)\n",
    "        return prob"
   ]
  },
  {
   "cell_type": "code",
   "execution_count": 26,
   "metadata": {},
   "outputs": [],
   "source": [
    "#Neural Net from scratch\n",
    "class HorseLogistic(nn.Module):\n",
    "    def __init__(self):\n",
    "\n",
    "        super().__init__()\n",
    "\n",
    "        self.linear_stack = nn.Sequential(\n",
    "            nn.Linear(18, 1)\n",
    "        )\n",
    "\n",
    "        self.Sigmoid = nn.Sigmoid()\n",
    "\n",
    "    def forward(self, x):\n",
    "        x = x.view(1, 18)\n",
    "        x = self.linear_stack(x)\n",
    "        prob = self.Sigmoid(x)\n",
    "        return prob"
   ]
  },
  {
   "cell_type": "code",
   "execution_count": 27,
   "metadata": {},
   "outputs": [],
   "source": [
    "#Training Util\n",
    "def createTrainingUtils(model, i):\n",
    "    '''Constructs the utilities that will be used to train the input model\n",
    "    \n",
    "    Note: if you initialize a PyTorch optimizer object with a specific model's parameters,\n",
    "    then specific model's parameters will be updated during training. If your model is not training, \n",
    "    it could be possible that you are optimizing the wrong set of parameters.\n",
    "    \n",
    "    Arguments:\n",
    "        - model: a nn.Module object that will be trained and used to define the optimizer\n",
    "    Returns:\n",
    "        - trainDL: an nn.DataLoader object initialized with a training HotdogDataset, batch size of 16, and shuffling enabled\n",
    "        - testDL: an nn.DataLoader object initialized with a testing HotdogDataset, batch size of 16, and shuffling enabled\n",
    "        - lossfn: a binary-cross entropy loss object used for calculating the loss between predicted and target values\n",
    "        - opt: an Adam optimizer initialized with model parameters and a learning rate of 0.001, all other values are default\n",
    "    '''\n",
    "    trainDL, testDL, lossfn, opt = None, None, None, None\n",
    "    #start\n",
    "    trainDL = train_dataloader[0]\n",
    "    testDL = test_dataloader[0]\n",
    "    lossfn = nn.BCELoss()\n",
    "    opt = torch.optim.Adam(model.parameters(), lr=0.001)\n",
    "    #end\n",
    "    return trainDL, testDL, lossfn, opt"
   ]
  },
  {
   "cell_type": "code",
   "execution_count": 28,
   "metadata": {},
   "outputs": [],
   "source": [
    "def evalDL(model, dl, lossfn):\n",
    "\n",
    "    # figure out if the GPU is available and send model and data to it\n",
    "    device = torch.device(\"cuda\" if torch.cuda.is_available() else \"cpu\")\n",
    "    model = model.to(device)\n",
    "\n",
    "    # use torch.no_grad() context manager to prevent gradients from accumulating in evaluation \n",
    "    # and hindering training\n",
    "    with torch.no_grad():\n",
    "        lossSum = 0\n",
    "        nCorrect = 0\n",
    "        for x, y in dl:\n",
    "            pred = model(x)\n",
    "\n",
    "            # compute the loss and add to total (multiply by batch-size to make mean into sum)\n",
    "            # by default, loss functions compute means of losses over batches\n",
    "            lossSum += lossfn(pred, y[0,0].view(1,1))\n",
    "\n",
    "            # compute the number of correct and update\n",
    "            predictions = torch.where(pred > 0.5, 1, 0)\n",
    "            truth = torch.where(y[0,0].view(1,1) > 0.5, 1, 0)\n",
    "            nCorrect += torch.sum(predictions == truth)\n",
    "\n",
    "        numSamples = len(dl.dataset)\n",
    "        avgLoss = lossSum / numSamples\n",
    "        acc = nCorrect / numSamples\n",
    "    return avgLoss.item(), acc.item()\n",
    "\n",
    "def evaluate(model, trainDL, validDL, lossfn):\n",
    "    trainLoss, trainAcc = evalDL(model, trainDL, lossfn)\n",
    "    validLoss, validAcc = evalDL(model, validDL, lossfn)\n",
    "    return trainLoss, trainAcc, validLoss, validAcc"
   ]
  },
  {
   "cell_type": "code",
   "execution_count": 29,
   "metadata": {},
   "outputs": [],
   "source": [
    "def train(model, trainDL, validDL, lossfn, opt, epochs=10):\n",
    "    '''Trains model and returns training and validation statistics\n",
    "    \n",
    "    Arguments:\n",
    "        - model: nn.Module object whose parameters will be updated\n",
    "        - trainDL: the nn.DataLoader object for the training dataset\n",
    "        - validDL: the nn.DataLoader for the validation dataset\n",
    "        - lossfn: a torch.nn loss function object used to evaluate how correct the model's predictions are\n",
    "        - opt: a torch.optim.Optimizer object used for updating the model's parameters\n",
    "        - epochs: the number of epochs to train for\n",
    "    Returns:\n",
    "        - model: the model after performing training and updating it's parameters\n",
    "        - trainLosses: list s.t. trainLosses[i] = average loss on training dataset before epoch i\n",
    "        - trainAccs: list s.t. trainAccs[i] = prediction accuracy on training dataset after epoch i\n",
    "        - validLosses: list s.t. validLosses[i] = average loss on validation dataset after epoch i\n",
    "        - validAccs: list s.t. validAccs[i] = prediction accuracy on validation dataset after epoch i\n",
    "    '''\n",
    "\n",
    "    trainLosses = []\n",
    "    trainAccs   = []\n",
    "    validLosses = []\n",
    "    validAccs   = []\n",
    "    device = torch.device(\"cuda\" if torch.cuda.is_available() else \"cpu\")\n",
    "    \n",
    "    # evaluate model without any training\n",
    "    trainLoss, trainAcc, validLoss, validAcc = evaluate(model, trainDL, validDL, lossfn)\n",
    "    trainLosses.append(trainLoss)\n",
    "    trainAccs.append(trainAcc)\n",
    "    validLosses.append(validLoss)\n",
    "    validAccs.append(validAcc)\n",
    "    print(f\"Initial Model: train-loss={trainLoss:<4.2f} train-acc={trainAcc:<4.2f} valid-loss={validLoss:<4.2f} valid-acc={validAcc:<4.2f}\")\n",
    "    \n",
    "    # replace the '...' with a line to send the model to the appropriate machine \n",
    "    # (look at evalDL on how to do this)\n",
    "    model.to(device)\n",
    "\n",
    "    for e in range(epochs):\n",
    "        for X, y in trainDL:\n",
    "            # START STUDENT SOLUTION ======================================================\n",
    "            # 1. send data to the appropriate device\n",
    "            # 2. compute prediction and loss (forward pass)\n",
    "            # 3. perform the backpropagation & gradient descent (backward pass)\n",
    "            pred = model(X)\n",
    "\n",
    "            loss = lossfn(pred, y[0,0].view(1,1))\n",
    "            opt.zero_grad()\n",
    "            loss.backward()\n",
    "            opt.step()\n",
    "            # END STUDENT SOLUTION ======================================================\n",
    "\n",
    "\n",
    "        trainLoss, trainAcc, validLoss, validAcc = evaluate(model, trainDL, validDL, lossfn)\n",
    "        trainLosses.append(trainLoss)\n",
    "        trainAccs.append(trainAcc)\n",
    "        validLosses.append(validLoss)\n",
    "        validAccs.append(validAcc)\n",
    "        print(f\"Epoch {e:>4d}: train-loss={trainLoss:<4.2f} train-acc={trainAcc:<4.2f} valid-loss={validLoss:<4.2f} valid-acc={validAcc:<4.2f}\")\n",
    "\n",
    "    return model, trainLosses, trainAccs, validLosses, validAccs"
   ]
  },
  {
   "cell_type": "code",
   "execution_count": 30,
   "metadata": {},
   "outputs": [],
   "source": [
    "def plotStatistics(epochs, trainLosses, trainAccs, validLosses, validAccs):\n",
    "    fig, axes = plt.subplots(1,2)\n",
    "    xdata = np.arange(epochs+1)\n",
    "    \n",
    "    # plot the losses\n",
    "    axis = axes[0]\n",
    "    axis.plot(xdata, trainLosses, label=\"Train\")\n",
    "    axis.plot(xdata, validLosses, label=\"Valid\")\n",
    "    axis.set_xlabel(\"# Epochs\")\n",
    "    axis.set_ylabel(\"Average Loss\")\n",
    "    axis.set_title(f\"Loss\")\n",
    "    axis.grid()\n",
    "    axis.legend()\n",
    "    \n",
    "    # plot the accuracies\n",
    "    axis = axes[1]\n",
    "    axis.plot(xdata, trainAccs, label=\"Train\")\n",
    "    axis.plot(xdata, validAccs, label=\"Valid\")\n",
    "    axis.set_xlabel(\"# Epochs\")\n",
    "    axis.set_ylabel(\"Accuracy\")\n",
    "    axis.set_title(f\"Accuracy\")\n",
    "    axis.grid()\n",
    "    axis.legend()"
   ]
  },
  {
   "cell_type": "code",
   "execution_count": 31,
   "metadata": {},
   "outputs": [],
   "source": [
    "def trainAndPlot(i):\n",
    "    '''Train the model and display the training and validation statistics\n",
    "    \n",
    "    1. initialize the HotdogMobileNet model (according to whether we are using the pretrained weights)\n",
    "    2. initialize the training utilities such as the DataLoaders, loss function, and optimizer\n",
    "    3. train the model for 10 epochs\n",
    "    4. plot the statistics collected over training\n",
    "    \n",
    "    Arguments:\n",
    "        - pretrained: whether MobileNet model will use pre-trained weights or not\n",
    "    '''\n",
    "    model = HorsePairWiseNet()\n",
    "    trainDL, testDL, lossfn, opt = createTrainingUtils(model, i)\n",
    "    model, trainLosses, trainAccs, validLosses, validAccs = train(model, trainDL, testDL, lossfn, opt, 10)\n",
    "    plotStatistics(10, trainLosses, trainAccs, validLosses, validAccs)\n",
    "    return model\n"
   ]
  },
  {
   "cell_type": "code",
   "execution_count": 32,
   "metadata": {},
   "outputs": [],
   "source": [
    "def trainAndPlotLogistic(i):\n",
    "    '''Train the model and display the training and validation statistics\n",
    "    \n",
    "    1. initialize the HotdogMobileNet model (according to whether we are using the pretrained weights)\n",
    "    2. initialize the training utilities such as the DataLoaders, loss function, and optimizer\n",
    "    3. train the model for 10 epochs\n",
    "    4. plot the statistics collected over training\n",
    "    \n",
    "    Arguments:\n",
    "        - pretrained: whether MobileNet model will use pre-trained weights or not\n",
    "    '''\n",
    "    model = HorseLogistic()\n",
    "    trainDL, testDL, lossfn, opt = createTrainingUtils(model, i)\n",
    "    model, trainLosses, trainAccs, validLosses, validAccs = train(model, trainDL, testDL, lossfn, opt, 10)\n",
    "    plotStatistics(10, trainLosses, trainAccs, validLosses, validAccs)\n",
    "\n",
    "    return model"
   ]
  },
  {
   "cell_type": "code",
   "execution_count": 33,
   "metadata": {},
   "outputs": [
    {
     "name": "stdout",
     "output_type": "stream",
     "text": [
      "Initial Model: train-loss=0.70 train-acc=0.52 valid-loss=0.70 valid-acc=0.50\n",
      "Epoch    0: train-loss=0.68 train-acc=0.89 valid-loss=0.68 valid-acc=0.88\n",
      "Epoch    1: train-loss=0.68 train-acc=0.89 valid-loss=0.68 valid-acc=0.89\n",
      "Epoch    2: train-loss=0.68 train-acc=0.89 valid-loss=0.68 valid-acc=0.90\n",
      "Epoch    3: train-loss=0.68 train-acc=0.89 valid-loss=0.68 valid-acc=0.90\n",
      "Epoch    4: train-loss=0.68 train-acc=0.91 valid-loss=0.68 valid-acc=0.90\n",
      "Epoch    5: train-loss=0.68 train-acc=0.90 valid-loss=0.68 valid-acc=0.92\n",
      "Epoch    6: train-loss=0.68 train-acc=0.89 valid-loss=0.68 valid-acc=0.89\n",
      "Epoch    7: train-loss=0.68 train-acc=0.91 valid-loss=0.68 valid-acc=0.90\n",
      "Epoch    8: train-loss=0.68 train-acc=0.90 valid-loss=0.68 valid-acc=0.91\n",
      "Epoch    9: train-loss=0.68 train-acc=0.91 valid-loss=0.68 valid-acc=0.90\n"
     ]
    },
    {
     "data": {
      "image/png": "[encoded data removed]",
      "text/plain": [
       "<Figure size 640x480 with 2 Axes>"
      ]
     },
     "metadata": {},
     "output_type": "display_data"
    }
   ],
   "source": [
    "if train:\n",
    "    for i in [13]:\n",
    "        modelNN = trainAndPlot(i)\n",
    "        torch.save(modelNN, f\"archive/{race_conds[i]}_NN.pt\")"
   ]
  },
  {
   "cell_type": "code",
   "execution_count": 34,
   "metadata": {},
   "outputs": [
    {
     "name": "stdout",
     "output_type": "stream",
     "text": [
      "Initial Model: train-loss=0.76 train-acc=0.40 valid-loss=0.75 valid-acc=0.39\n",
      "Epoch    0: train-loss=0.68 train-acc=0.85 valid-loss=0.68 valid-acc=0.83\n",
      "Epoch    1: train-loss=0.68 train-acc=0.86 valid-loss=0.68 valid-acc=0.85\n",
      "Epoch    2: train-loss=0.68 train-acc=0.87 valid-loss=0.68 valid-acc=0.88\n",
      "Epoch    3: train-loss=0.68 train-acc=0.85 valid-loss=0.68 valid-acc=0.85\n",
      "Epoch    4: train-loss=0.68 train-acc=0.87 valid-loss=0.68 valid-acc=0.89\n",
      "Epoch    5: train-loss=0.68 train-acc=0.85 valid-loss=0.68 valid-acc=0.84\n",
      "Epoch    6: train-loss=0.68 train-acc=0.87 valid-loss=0.68 valid-acc=0.85\n",
      "Epoch    7: train-loss=0.68 train-acc=0.87 valid-loss=0.68 valid-acc=0.86\n",
      "Epoch    8: train-loss=0.68 train-acc=0.84 valid-loss=0.68 valid-acc=0.86\n",
      "Epoch    9: train-loss=0.68 train-acc=0.88 valid-loss=0.68 valid-acc=0.88\n"
     ]
    },
    {
     "data": {
      "image/png": "[encoded data removed]",
      "text/plain": [
       "<Figure size 640x480 with 2 Axes>"
      ]
     },
     "metadata": {},
     "output_type": "display_data"
    }
   ],
   "source": [
    "if train:\n",
    "    for i in [13]:\n",
    "        modelLogistic = trainAndPlotLogistic(i)\n",
    "        torch.save(modelLogistic, f\"archive/{race_conds[i]}_Logistic.pt\")"
   ]
  },
  {
   "cell_type": "code",
   "execution_count": 39,
   "metadata": {},
   "outputs": [
    {
     "ename": "TypeError",
     "evalue": "'bool' object is not callable",
     "output_type": "error",
     "traceback": [
      "\u001b[1;31m---------------------------------------------------------------------------\u001b[0m",
      "\u001b[1;31mTypeError\u001b[0m                                 Traceback (most recent call last)",
      "Cell \u001b[1;32mIn[39], line 5\u001b[0m\n\u001b[0;32m      3\u001b[0m     modelNN \u001b[39m=\u001b[39m torch\u001b[39m.\u001b[39mload(\u001b[39mf\u001b[39m\u001b[39m\"\u001b[39m\u001b[39marchive/\u001b[39m\u001b[39m{\u001b[39;00mrace_conds[i]\u001b[39m}\u001b[39;00m\u001b[39m_NN.pt\u001b[39m\u001b[39m\"\u001b[39m)\n\u001b[0;32m      4\u001b[0m trainDL, testDL, lossfn, opt \u001b[39m=\u001b[39m createTrainingUtils(modelNN, i)\n\u001b[1;32m----> 5\u001b[0m model, trainLosses, trainAccs, validLosses, validAccs \u001b[39m=\u001b[39m train(modelNN, trainDL, testDL, lossfn, opt, \u001b[39m10\u001b[39;49m)\n\u001b[0;32m      6\u001b[0m plotStatistics(\u001b[39m10\u001b[39m, trainLosses, trainAccs, validLosses, validAccs)\n",
      "\u001b[1;31mTypeError\u001b[0m: 'bool' object is not callable"
     ]
    }
   ],
   "source": [
    "if not train:\n",
    "    for i in [13]:\n",
    "        modelNN = torch.load(f\"archive/{race_conds[i]}_NN.pt\")\n",
    "    trainDL, validDL, lossfn, opt = createTrainingUtils(modelNN, i)\n",
    "    trainLoss, trainAcc = evalDL(modelNN, trainDL, lossfn)\n",
    "    validLoss, validAcc = evalDL(modelNN, validDL, lossfn)\n",
    "    plotStatistics(10, [trainLoss], trainAccs, validLosses, validAccs)"
   ]
  },
  {
   "cell_type": "code",
   "execution_count": 32,
   "metadata": {},
   "outputs": [],
   "source": [
    "if not train:\n",
    "    for i in [13]:\n",
    "        model = torch.load(f\"archive/{race_conds[i]}_Logistic.pt\")\n",
    "    trainDL, testDL, lossfn, opt = createTrainingUtils(modelLogistic, i)\n",
    "    model, trainLosses, trainAccs, validLosses, validAccs = train(modelLogistic, trainDL, testDL, lossfn, opt, 10)\n",
    "    plotStatistics(10, trainLosses, trainAccs, validLosses, validAccs)"
   ]
  },
  {
   "attachments": {},
   "cell_type": "markdown",
   "metadata": {},
   "source": [
    "Citation/References:\n",
    "evalDL(), evaluate(), train(), plotStatistics(), createTrainingUtils(), and trainAndPlot() have been\n",
    "taken from homework 7\n",
    "\n",
    "https://pytorch.org/tutorials/beginner/basics/buildmodel_tutorial.html\n",
    "This tutorial helped us create the structure for the neural network\n",
    "\n",
    "https://www.globenewswire.com/en/news-release/2023/04/04/2640319/0/en/Global-Horse-Racing-Market-Size-to-Surpass-793-9-Bn-Growth-by-2030-Exhibit-a-CAGR-of-8-89-Equestrian-Industry-Analysis-Comprehensive-Study.html#:~:text=The%20global%20horse%20racing%20market,dating%20back%20to%20ancient%20times.\n",
    "Used for introduction"
   ]
  }
 ],
 "metadata": {
  "kernelspec": {
   "display_name": "Python 3 (ipykernel)",
   "language": "python",
   "name": "python3"
  },
  "language_info": {
   "codemirror_mode": {
    "name": "ipython",
    "version": 3
   },
   "file_extension": ".py",
   "mimetype": "text/x-python",
   "name": "python",
   "nbconvert_exporter": "python",
   "pygments_lexer": "ipython3",
   "version": "3.11.2"
  }
 },
 "nbformat": 4,
 "nbformat_minor": 2
}
